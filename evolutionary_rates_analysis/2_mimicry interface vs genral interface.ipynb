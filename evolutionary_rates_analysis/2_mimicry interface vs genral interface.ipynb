{
 "cells": [
  {
   "cell_type": "markdown",
   "id": "f132743f-d6cc-4b51-b112-0ad6d117325d",
   "metadata": {},
   "source": [
    "This script was used to produce the results in Fig 3C - where we combine structural analysis (general interafce from predicted monomers using ScanNet and mimicry interface from predicted protein complex strctures and based on CSU analysis) with evolutionary rates.  \n",
    "As \"general interface\" residues we take all protein resdiues with a ScanNet scre 0f 0.7 or higher."
   ]
  },
  {
   "cell_type": "markdown",
   "id": "24f7d248-13e1-4cc5-981d-7a80ffa675f8",
   "metadata": {},
   "source": [
    "# imports, paths, functions"
   ]
  },
  {
   "cell_type": "code",
   "execution_count": 1,
   "id": "e1b4d098-4c0a-41bd-a3d9-bb3d050552a9",
   "metadata": {},
   "outputs": [],
   "source": [
    "import os\n",
    "import pandas as pd\n",
    "import numpy as np"
   ]
  },
  {
   "cell_type": "code",
   "execution_count": 3,
   "id": "d7d31c23-21a2-46af-b58b-4145473657f6",
   "metadata": {},
   "outputs": [],
   "source": [
    "import matplotlib.pyplot as plt\n",
    "import seaborn as sns\n",
    "import scipy.stats as stats"
   ]
  },
  {
   "cell_type": "code",
   "execution_count": 4,
   "id": "2dfacd69-b948-4a47-a7f0-d652118d969e",
   "metadata": {},
   "outputs": [],
   "source": [
    "from statsmodels.stats.multitest import multipletests"
   ]
  },
  {
   "cell_type": "code",
   "execution_count": 5,
   "id": "25f017d3-7324-4ce9-b4a5-18c694ba0316",
   "metadata": {},
   "outputs": [],
   "source": [
    "import itertools"
   ]
  },
  {
   "cell_type": "code",
   "execution_count": 72,
   "id": "4dc380df-2854-400f-a0e6-2c286f5c75b6",
   "metadata": {},
   "outputs": [],
   "source": [
    "# directory of the current script\n",
    "script_dir = os.getcwd()"
   ]
  },
  {
   "cell_type": "code",
   "execution_count": 84,
   "id": "ec626a3e-7ae0-4904-9c56-2745339cba93",
   "metadata": {},
   "outputs": [],
   "source": [
    "# protein residues tables with CSU analysis results combined with dnds data\n",
    "path_dnds_csu_mimicked = os.path.join(script_dir, 'mimicry_general_interface_data', 'mimicked_unique_CSU_dnds.csv')\n",
    "path_dnds_csu_target = os.path.join(script_dir, 'mimicry_general_interface_data', 'target_unique_CSU_dnds.csv')\n",
    "\n",
    "# scannet tables with residues that scores 0.7 or higher\n",
    "path_scannet_mimicked = os.path.join(script_dir, 'mimicry_general_interface_data', 'scannet_mimicked_0.7.csv')\n",
    "path_scannet_target = os.path.join(script_dir, 'mimicry_general_interface_data', 'scannet_target_0.7.csv')\n"
   ]
  },
  {
   "cell_type": "code",
   "execution_count": 18,
   "id": "f33c45d1-b632-4b5d-b9dc-62a33d6f5e40",
   "metadata": {},
   "outputs": [],
   "source": [
    "# the path to the folder with scannet csv files \n",
    "scannet_folder =  os.path.join(script_dir, 'mimicry_general_interface_data', 'scannet_data')"
   ]
  },
  {
   "cell_type": "code",
   "execution_count": 20,
   "id": "3e981ebf-9684-4e54-ad55-f90306ab782e",
   "metadata": {},
   "outputs": [],
   "source": [
    "def get_stats(grouped_df_dict, less_greater):\n",
    "    dict_keys = list(grouped_df_dict.keys())\n",
    "\n",
    "    for i in range(0, len(dict_keys), 2):\n",
    "        if i + 1 < len(dict_keys):  # ensure there is a pair\n",
    "            key1 = dict_keys[i]\n",
    "            key2 = dict_keys[i + 1]\n",
    "            \n",
    "            list1 = grouped_df_dict[key1]\n",
    "            list2 = grouped_df_dict[key2]\n",
    "\n",
    "            stat_PPIs, p_value_PPI = stats.mannwhitneyu(x= list1 , y= list2 , alternative = less_greater)\n",
    "\n",
    "            # format the resuls as a string\n",
    "            result = f\"p-value of {str(key1)} and {str(key2)} = {p_value_PPI:.2e}\"\n",
    "\n",
    "            # print the results\n",
    "            print(result)\n",
    "                        "
   ]
  },
  {
   "cell_type": "markdown",
   "id": "f8b5d3c6-3209-40ea-82fe-e31e86e0f6a7",
   "metadata": {},
   "source": [
    "# get mimicry interface dnds tables"
   ]
  },
  {
   "cell_type": "code",
   "execution_count": 86,
   "id": "00907591-6da1-41c0-a795-f927b17eb484",
   "metadata": {},
   "outputs": [],
   "source": [
    "# mimicked proteins interface table\n",
    "\n",
    "mimicked_df = pd.read_csv(path_dnds_csu_mimicked)\n",
    "mimicked_I_df = mimicked_df[mimicked_df['csu_result'] == \"I\"]"
   ]
  },
  {
   "cell_type": "code",
   "execution_count": 88,
   "id": "2b1c8cba-dae5-45b5-aca1-7b75ab0112d4",
   "metadata": {},
   "outputs": [],
   "source": [
    "# mutual targets proteins interface table\n",
    "\n",
    "target_df = pd.read_csv(path_dnds_csu_target)\n",
    "target_I_df = target_df[target_df['csu_result'] == \"I\"]"
   ]
  },
  {
   "cell_type": "code",
   "execution_count": 90,
   "id": "3fcb5577-a6ca-49ed-b29d-043327b24994",
   "metadata": {},
   "outputs": [],
   "source": [
    "csu_I_df = pd.concat([mimicked_I_df, target_I_df ]).reset_index(drop=True)"
   ]
  },
  {
   "cell_type": "code",
   "execution_count": 92,
   "id": "4a74c21b-54c8-4029-9b6f-67cade9ed12b",
   "metadata": {},
   "outputs": [],
   "source": [
    "csu_I_df.rename(columns={'dN/dS':'dnds',}, inplace = True)"
   ]
  },
  {
   "cell_type": "code",
   "execution_count": 94,
   "id": "b1816dcc-3711-406b-849d-7edfcc594632",
   "metadata": {},
   "outputs": [],
   "source": [
    "csu_I_df['uniprot_index'] = csu_I_df['uniprot_index'].astype(int)"
   ]
  },
  {
   "cell_type": "code",
   "execution_count": 152,
   "id": "6db21e82-f07a-4816-9281-4d22e84d863a",
   "metadata": {},
   "outputs": [],
   "source": [
    "csu_I_df['Class'] = 'AFM_CSU'"
   ]
  },
  {
   "cell_type": "code",
   "execution_count": 150,
   "id": "64e95789-42c5-47b6-9d7b-107841dcec1a",
   "metadata": {},
   "outputs": [],
   "source": [
    "csu_uniprots_list = csu_I_df['uniprot'].unique().tolist()"
   ]
  },
  {
   "cell_type": "markdown",
   "id": "19e75c90-2a0f-45a8-9935-5e4509a269ef",
   "metadata": {},
   "source": [
    "# ScanNet tables"
   ]
  },
  {
   "cell_type": "code",
   "execution_count": 101,
   "id": "9143a6e3-0b84-4404-b417-022ea421782c",
   "metadata": {},
   "outputs": [],
   "source": [
    "mimicked_scannet_df = pd.read_csv(path_scannet_mimicked)\n",
    "target_scannet_df = pd.read_csv(path_scannet_target)"
   ]
  },
  {
   "cell_type": "code",
   "execution_count": 103,
   "id": "43f3f1ab-6354-47ec-8c81-4ac1e5d8210a",
   "metadata": {},
   "outputs": [],
   "source": [
    "mimicked_scannet_df = mimicked_scannet_df[['uniprot','type','Residue Index','Sequence','Binding site probability']]\n",
    "target_scannet_df = target_scannet_df[['uniprot','type','Residue Index','Sequence','Binding site probability']]"
   ]
  },
  {
   "cell_type": "code",
   "execution_count": 105,
   "id": "ff8c9634-e134-49c8-b7f2-c4d7f7d56c9b",
   "metadata": {},
   "outputs": [],
   "source": [
    "# one full tables with both mimicked and target\n",
    "\n",
    "scannet_df = pd.concat([mimicked_scannet_df, target_scannet_df], ignore_index=True).drop_duplicates()          "
   ]
  },
  {
   "cell_type": "code",
   "execution_count": 107,
   "id": "25574178-c98a-42f6-9f03-f6943812f3dc",
   "metadata": {},
   "outputs": [
    {
     "data": {
      "text/html": [
       "<div>\n",
       "<style scoped>\n",
       "    .dataframe tbody tr th:only-of-type {\n",
       "        vertical-align: middle;\n",
       "    }\n",
       "\n",
       "    .dataframe tbody tr th {\n",
       "        vertical-align: top;\n",
       "    }\n",
       "\n",
       "    .dataframe thead th {\n",
       "        text-align: right;\n",
       "    }\n",
       "</style>\n",
       "<table border=\"1\" class=\"dataframe\">\n",
       "  <thead>\n",
       "    <tr style=\"text-align: right;\">\n",
       "      <th></th>\n",
       "      <th>uniprot</th>\n",
       "      <th>type</th>\n",
       "      <th>Residue Index</th>\n",
       "      <th>Sequence</th>\n",
       "      <th>Binding site probability</th>\n",
       "    </tr>\n",
       "  </thead>\n",
       "  <tbody>\n",
       "    <tr>\n",
       "      <th>0</th>\n",
       "      <td>uniprot</td>\n",
       "      <td>mimicked</td>\n",
       "      <td>12</td>\n",
       "      <td>L</td>\n",
       "      <td>0.724</td>\n",
       "    </tr>\n",
       "    <tr>\n",
       "      <th>1</th>\n",
       "      <td>uniprot</td>\n",
       "      <td>mimicked</td>\n",
       "      <td>136</td>\n",
       "      <td>E</td>\n",
       "      <td>0.726</td>\n",
       "    </tr>\n",
       "    <tr>\n",
       "      <th>2</th>\n",
       "      <td>uniprot</td>\n",
       "      <td>mimicked</td>\n",
       "      <td>140</td>\n",
       "      <td>W</td>\n",
       "      <td>0.730</td>\n",
       "    </tr>\n",
       "    <tr>\n",
       "      <th>3</th>\n",
       "      <td>uniprot</td>\n",
       "      <td>mimicked</td>\n",
       "      <td>179</td>\n",
       "      <td>Y</td>\n",
       "      <td>0.768</td>\n",
       "    </tr>\n",
       "    <tr>\n",
       "      <th>4</th>\n",
       "      <td>uniprot</td>\n",
       "      <td>mimicked</td>\n",
       "      <td>183</td>\n",
       "      <td>Y</td>\n",
       "      <td>0.813</td>\n",
       "    </tr>\n",
       "    <tr>\n",
       "      <th>...</th>\n",
       "      <td>...</td>\n",
       "      <td>...</td>\n",
       "      <td>...</td>\n",
       "      <td>...</td>\n",
       "      <td>...</td>\n",
       "    </tr>\n",
       "    <tr>\n",
       "      <th>1651</th>\n",
       "      <td>P08238</td>\n",
       "      <td>target</td>\n",
       "      <td>687</td>\n",
       "      <td>G</td>\n",
       "      <td>0.921</td>\n",
       "    </tr>\n",
       "    <tr>\n",
       "      <th>1652</th>\n",
       "      <td>P08238</td>\n",
       "      <td>target</td>\n",
       "      <td>688</td>\n",
       "      <td>L</td>\n",
       "      <td>0.930</td>\n",
       "    </tr>\n",
       "    <tr>\n",
       "      <th>1653</th>\n",
       "      <td>P08238</td>\n",
       "      <td>target</td>\n",
       "      <td>690</td>\n",
       "      <td>I</td>\n",
       "      <td>0.875</td>\n",
       "    </tr>\n",
       "    <tr>\n",
       "      <th>1654</th>\n",
       "      <td>P08238</td>\n",
       "      <td>target</td>\n",
       "      <td>695</td>\n",
       "      <td>V</td>\n",
       "      <td>0.826</td>\n",
       "    </tr>\n",
       "    <tr>\n",
       "      <th>1655</th>\n",
       "      <td>P08238</td>\n",
       "      <td>target</td>\n",
       "      <td>698</td>\n",
       "      <td>E</td>\n",
       "      <td>0.732</td>\n",
       "    </tr>\n",
       "  </tbody>\n",
       "</table>\n",
       "<p>1656 rows × 5 columns</p>\n",
       "</div>"
      ],
      "text/plain": [
       "      uniprot      type  Residue Index Sequence  Binding site probability\n",
       "0     uniprot  mimicked             12        L                     0.724\n",
       "1     uniprot  mimicked            136        E                     0.726\n",
       "2     uniprot  mimicked            140        W                     0.730\n",
       "3     uniprot  mimicked            179        Y                     0.768\n",
       "4     uniprot  mimicked            183        Y                     0.813\n",
       "...       ...       ...            ...      ...                       ...\n",
       "1651   P08238    target            687        G                     0.921\n",
       "1652   P08238    target            688        L                     0.930\n",
       "1653   P08238    target            690        I                     0.875\n",
       "1654   P08238    target            695        V                     0.826\n",
       "1655   P08238    target            698        E                     0.732\n",
       "\n",
       "[1656 rows x 5 columns]"
      ]
     },
     "execution_count": 107,
     "metadata": {},
     "output_type": "execute_result"
    }
   ],
   "source": [
    "scannet_df"
   ]
  },
  {
   "cell_type": "code",
   "execution_count": 109,
   "id": "3ade6eeb-32dd-4bf9-aa8e-5ac63cee155f",
   "metadata": {},
   "outputs": [],
   "source": [
    "scannet_df['Residue Index'] = scannet_df['Residue Index'].astype('int')"
   ]
  },
  {
   "cell_type": "code",
   "execution_count": 111,
   "id": "bcd6d4d6-1ad1-4991-9dd1-022b9e6484fd",
   "metadata": {},
   "outputs": [],
   "source": [
    "scannet_df.rename({'Sequence':'res'},axis =1, inplace =True)"
   ]
  },
  {
   "cell_type": "markdown",
   "id": "16e5a91e-1d61-4cd1-a984-70a7aa805d6e",
   "metadata": {},
   "source": [
    "# dnds "
   ]
  },
  {
   "cell_type": "markdown",
   "id": "a7c82d62-160f-4d96-81fa-330c4a7b147f",
   "metadata": {},
   "source": [
    "## full dnds table"
   ]
  },
  {
   "cell_type": "code",
   "execution_count": 113,
   "id": "884c38ad-1fb8-4e28-adb7-2d311e341907",
   "metadata": {},
   "outputs": [],
   "source": [
    "all_dnds_df = pd.concat([mimicked_df,target_df]).reset_index(drop=True)"
   ]
  },
  {
   "cell_type": "code",
   "execution_count": 115,
   "id": "39456f40-876b-490d-a2c1-fec718f62783",
   "metadata": {},
   "outputs": [
    {
     "data": {
      "text/html": [
       "<div>\n",
       "<style scoped>\n",
       "    .dataframe tbody tr th:only-of-type {\n",
       "        vertical-align: middle;\n",
       "    }\n",
       "\n",
       "    .dataframe tbody tr th {\n",
       "        vertical-align: top;\n",
       "    }\n",
       "\n",
       "    .dataframe thead th {\n",
       "        text-align: right;\n",
       "    }\n",
       "</style>\n",
       "<table border=\"1\" class=\"dataframe\">\n",
       "  <thead>\n",
       "    <tr style=\"text-align: right;\">\n",
       "      <th></th>\n",
       "      <th>uniprot</th>\n",
       "      <th>type</th>\n",
       "      <th>uniprot_index</th>\n",
       "      <th>uniprot_seq</th>\n",
       "      <th>csu_result</th>\n",
       "      <th>dN/dS</th>\n",
       "      <th>Uniprot_ResIndex</th>\n",
       "      <th>protein_count</th>\n",
       "      <th>Uniprot_ResIndex_count</th>\n",
       "    </tr>\n",
       "  </thead>\n",
       "  <tbody>\n",
       "    <tr>\n",
       "      <th>0</th>\n",
       "      <td>O00254</td>\n",
       "      <td>mimicked</td>\n",
       "      <td>1</td>\n",
       "      <td>M</td>\n",
       "      <td>S</td>\n",
       "      <td>0.14</td>\n",
       "      <td>O00254_1</td>\n",
       "      <td>1</td>\n",
       "      <td>O00254_1_A</td>\n",
       "    </tr>\n",
       "    <tr>\n",
       "      <th>1</th>\n",
       "      <td>O00254</td>\n",
       "      <td>mimicked</td>\n",
       "      <td>2</td>\n",
       "      <td>K</td>\n",
       "      <td>S</td>\n",
       "      <td>0.19</td>\n",
       "      <td>O00254_2</td>\n",
       "      <td>1</td>\n",
       "      <td>O00254_2_A</td>\n",
       "    </tr>\n",
       "    <tr>\n",
       "      <th>2</th>\n",
       "      <td>O00254</td>\n",
       "      <td>mimicked</td>\n",
       "      <td>3</td>\n",
       "      <td>A</td>\n",
       "      <td>S</td>\n",
       "      <td>0.31</td>\n",
       "      <td>O00254_3</td>\n",
       "      <td>1</td>\n",
       "      <td>O00254_3_A</td>\n",
       "    </tr>\n",
       "    <tr>\n",
       "      <th>3</th>\n",
       "      <td>O00254</td>\n",
       "      <td>mimicked</td>\n",
       "      <td>4</td>\n",
       "      <td>L</td>\n",
       "      <td>S</td>\n",
       "      <td>0.30</td>\n",
       "      <td>O00254_4</td>\n",
       "      <td>1</td>\n",
       "      <td>O00254_4_A</td>\n",
       "    </tr>\n",
       "    <tr>\n",
       "      <th>4</th>\n",
       "      <td>O00254</td>\n",
       "      <td>mimicked</td>\n",
       "      <td>5</td>\n",
       "      <td>I</td>\n",
       "      <td>S</td>\n",
       "      <td>0.42</td>\n",
       "      <td>O00254_5</td>\n",
       "      <td>1</td>\n",
       "      <td>O00254_5_A</td>\n",
       "    </tr>\n",
       "  </tbody>\n",
       "</table>\n",
       "</div>"
      ],
      "text/plain": [
       "  uniprot      type  uniprot_index uniprot_seq csu_result  dN/dS  \\\n",
       "0  O00254  mimicked              1           M          S   0.14   \n",
       "1  O00254  mimicked              2           K          S   0.19   \n",
       "2  O00254  mimicked              3           A          S   0.31   \n",
       "3  O00254  mimicked              4           L          S   0.30   \n",
       "4  O00254  mimicked              5           I          S   0.42   \n",
       "\n",
       "  Uniprot_ResIndex  protein_count Uniprot_ResIndex_count  \n",
       "0         O00254_1              1             O00254_1_A  \n",
       "1         O00254_2              1             O00254_2_A  \n",
       "2         O00254_3              1             O00254_3_A  \n",
       "3         O00254_4              1             O00254_4_A  \n",
       "4         O00254_5              1             O00254_5_A  "
      ]
     },
     "execution_count": 115,
     "metadata": {},
     "output_type": "execute_result"
    }
   ],
   "source": [
    "all_dnds_df.head()"
   ]
  },
  {
   "cell_type": "code",
   "execution_count": 117,
   "id": "91678385-cc0b-4148-9f9e-e07357d86212",
   "metadata": {
    "scrolled": true
   },
   "outputs": [],
   "source": [
    "all_dnds_df['dN/dS'] = all_dnds_df['dN/dS'].astype(float)\n",
    "all_dnds_df['uniprot_index'] = all_dnds_df['uniprot_index'].astype(int)"
   ]
  },
  {
   "cell_type": "markdown",
   "id": "6b4da7f5-d42b-4e42-a245-d1aa120669db",
   "metadata": {},
   "source": [
    "## dnds dictionary"
   ]
  },
  {
   "cell_type": "code",
   "execution_count": 119,
   "id": "9cf3197c-66d8-4613-a3b2-080df1a762b6",
   "metadata": {},
   "outputs": [],
   "source": [
    "# create a dictionary with tuple keys for direct lookup\n",
    "dnds_dict = all_dnds_df.set_index(['uniprot', 'uniprot_seq', 'uniprot_index'])['dN/dS'].to_dict()\n",
    "\n",
    "def get_dnds(uniprot, res, res_num):\n",
    "    return dnds_dict.get((uniprot, res, res_num), np.nan)"
   ]
  },
  {
   "cell_type": "markdown",
   "id": "a8f068a4-4175-4b3d-aed4-124ac25b87b2",
   "metadata": {},
   "source": [
    "# add dnds values to scannet interface residues"
   ]
  },
  {
   "cell_type": "code",
   "execution_count": 122,
   "id": "ba25920c-35f6-4061-b1f7-fb1c116e1fb2",
   "metadata": {},
   "outputs": [],
   "source": [
    "scannet_df['dnds'] = scannet_df.apply(\n",
    "    lambda row: get_dnds(row['uniprot'], row['res'], row['Residue Index']), axis=1)"
   ]
  },
  {
   "cell_type": "code",
   "execution_count": 124,
   "id": "fd996e3c-a89c-4e18-b2b6-a0e895e688f3",
   "metadata": {},
   "outputs": [],
   "source": [
    "scannet_df.rename(columns={'Residue Index':'uniprot_index','res':'uniprot_seq'}, inplace = True)\n"
   ]
  },
  {
   "cell_type": "code",
   "execution_count": 126,
   "id": "7c93a594-fcf2-485b-bb01-fd59192d0728",
   "metadata": {},
   "outputs": [],
   "source": [
    "scannet_df['uniprot_index'] = scannet_df['uniprot_index'].astype(int)\n"
   ]
  },
  {
   "cell_type": "code",
   "execution_count": 128,
   "id": "65665c07-89ff-4934-bddc-892b1bf3570b",
   "metadata": {},
   "outputs": [],
   "source": [
    "# label these rows as scannet rows\n",
    "scannet_df['Class'] = 'scannet'"
   ]
  },
  {
   "cell_type": "code",
   "execution_count": 130,
   "id": "93357131-8b39-452f-8ad1-3f9cd5d9fbd2",
   "metadata": {},
   "outputs": [
    {
     "data": {
      "text/html": [
       "<div>\n",
       "<style scoped>\n",
       "    .dataframe tbody tr th:only-of-type {\n",
       "        vertical-align: middle;\n",
       "    }\n",
       "\n",
       "    .dataframe tbody tr th {\n",
       "        vertical-align: top;\n",
       "    }\n",
       "\n",
       "    .dataframe thead th {\n",
       "        text-align: right;\n",
       "    }\n",
       "</style>\n",
       "<table border=\"1\" class=\"dataframe\">\n",
       "  <thead>\n",
       "    <tr style=\"text-align: right;\">\n",
       "      <th></th>\n",
       "      <th>uniprot</th>\n",
       "      <th>type</th>\n",
       "      <th>uniprot_index</th>\n",
       "      <th>uniprot_seq</th>\n",
       "      <th>Binding site probability</th>\n",
       "      <th>dnds</th>\n",
       "      <th>Class</th>\n",
       "    </tr>\n",
       "  </thead>\n",
       "  <tbody>\n",
       "    <tr>\n",
       "      <th>0</th>\n",
       "      <td>uniprot</td>\n",
       "      <td>mimicked</td>\n",
       "      <td>12</td>\n",
       "      <td>L</td>\n",
       "      <td>0.724</td>\n",
       "      <td>NaN</td>\n",
       "      <td>scannet</td>\n",
       "    </tr>\n",
       "    <tr>\n",
       "      <th>1</th>\n",
       "      <td>uniprot</td>\n",
       "      <td>mimicked</td>\n",
       "      <td>136</td>\n",
       "      <td>E</td>\n",
       "      <td>0.726</td>\n",
       "      <td>NaN</td>\n",
       "      <td>scannet</td>\n",
       "    </tr>\n",
       "    <tr>\n",
       "      <th>2</th>\n",
       "      <td>uniprot</td>\n",
       "      <td>mimicked</td>\n",
       "      <td>140</td>\n",
       "      <td>W</td>\n",
       "      <td>0.730</td>\n",
       "      <td>NaN</td>\n",
       "      <td>scannet</td>\n",
       "    </tr>\n",
       "    <tr>\n",
       "      <th>3</th>\n",
       "      <td>uniprot</td>\n",
       "      <td>mimicked</td>\n",
       "      <td>179</td>\n",
       "      <td>Y</td>\n",
       "      <td>0.768</td>\n",
       "      <td>NaN</td>\n",
       "      <td>scannet</td>\n",
       "    </tr>\n",
       "    <tr>\n",
       "      <th>4</th>\n",
       "      <td>uniprot</td>\n",
       "      <td>mimicked</td>\n",
       "      <td>183</td>\n",
       "      <td>Y</td>\n",
       "      <td>0.813</td>\n",
       "      <td>NaN</td>\n",
       "      <td>scannet</td>\n",
       "    </tr>\n",
       "  </tbody>\n",
       "</table>\n",
       "</div>"
      ],
      "text/plain": [
       "   uniprot      type  uniprot_index uniprot_seq  Binding site probability  \\\n",
       "0  uniprot  mimicked             12           L                     0.724   \n",
       "1  uniprot  mimicked            136           E                     0.726   \n",
       "2  uniprot  mimicked            140           W                     0.730   \n",
       "3  uniprot  mimicked            179           Y                     0.768   \n",
       "4  uniprot  mimicked            183           Y                     0.813   \n",
       "\n",
       "   dnds    Class  \n",
       "0   NaN  scannet  \n",
       "1   NaN  scannet  \n",
       "2   NaN  scannet  \n",
       "3   NaN  scannet  \n",
       "4   NaN  scannet  "
      ]
     },
     "execution_count": 130,
     "metadata": {},
     "output_type": "execute_result"
    }
   ],
   "source": [
    "scannet_df.head()"
   ]
  },
  {
   "cell_type": "markdown",
   "id": "0f0594ca-8597-4433-b7d3-f81dcf06201d",
   "metadata": {},
   "source": [
    "# combine both tables"
   ]
  },
  {
   "cell_type": "code",
   "execution_count": 164,
   "id": "ab4dc6da-84dd-4330-8e33-613249b0fba4",
   "metadata": {},
   "outputs": [],
   "source": [
    "combined_df = pd.concat([csu_I_df, scannet_df]).reset_index(drop=True)"
   ]
  },
  {
   "cell_type": "code",
   "execution_count": 166,
   "id": "7e60bbe7-406b-4225-9309-95d142762059",
   "metadata": {},
   "outputs": [
    {
     "data": {
      "text/plain": [
       "Class\n",
       "AFM_CSU    2141\n",
       "scannet    1656\n",
       "Name: count, dtype: int64"
      ]
     },
     "execution_count": 166,
     "metadata": {},
     "output_type": "execute_result"
    }
   ],
   "source": [
    "combined_df['Class'].value_counts()"
   ]
  },
  {
   "cell_type": "code",
   "execution_count": 167,
   "id": "a09fa83f-3449-45d5-874e-04264accc4e5",
   "metadata": {},
   "outputs": [],
   "source": [
    "combined_df['dnds'] = combined_df['dnds'].astype(float)"
   ]
  },
  {
   "cell_type": "code",
   "execution_count": 172,
   "id": "0b5e2591-8c81-4f28-9635-bc6dab508ac5",
   "metadata": {},
   "outputs": [],
   "source": [
    "combined_df_ = combined_df[['uniprot','type','uniprot_index' , 'uniprot_seq' , 'Class', 'dnds' ]]"
   ]
  },
  {
   "cell_type": "code",
   "execution_count": 174,
   "id": "6c7ce839-ca25-4c13-b97f-a62d8507b75e",
   "metadata": {},
   "outputs": [],
   "source": [
    "combined_plot_df = combined_df.dropna(subset=['dnds'])"
   ]
  },
  {
   "cell_type": "markdown",
   "id": "23f1dead-7606-4499-b567-6374591ee74c",
   "metadata": {},
   "source": [
    "# plot"
   ]
  },
  {
   "cell_type": "code",
   "execution_count": 189,
   "id": "455a0ad9-edb2-4bb0-b15b-4f73c917d8ad",
   "metadata": {},
   "outputs": [
    {
     "name": "stderr",
     "output_type": "stream",
     "text": [
      "C:\\Users\\TzachiHNB13\\AppData\\Local\\Temp\\ipykernel_95780\\3689310015.py:1: SettingWithCopyWarning: \n",
      "A value is trying to be set on a copy of a slice from a DataFrame.\n",
      "Try using .loc[row_indexer,col_indexer] = value instead\n",
      "\n",
      "See the caveats in the documentation: https://pandas.pydata.org/pandas-docs/stable/user_guide/indexing.html#returning-a-view-versus-a-copy\n",
      "  combined_plot_df['Class'] = combined_plot_df ['Class'].replace({'AFM_CSU': 'mimic interface' ,  'scannet': 'general interface'})\n"
     ]
    }
   ],
   "source": [
    "combined_plot_df['Class'] = combined_plot_df ['Class'].replace({'AFM_CSU': 'mimic interface' ,  'scannet': 'general interface'})\n",
    "\n",
    "palette_dict = {\n",
    "    'mimicked': ['#a58ce6', '#dad1f0'],  \n",
    "    'target': ['#6097f0', '#c9d4f2'], \n",
    "}"
   ]
  },
  {
   "cell_type": "code",
   "execution_count": 191,
   "id": "5a485818-475a-478d-8189-4d7bf1d6b0b3",
   "metadata": {},
   "outputs": [
    {
     "data": {
      "image/png": "[encoded data removed]",
      "text/plain": [
       "<Figure size 400x600 with 1 Axes>"
      ]
     },
     "metadata": {},
     "output_type": "display_data"
    }
   ],
   "source": [
    "fig, ax = plt.subplots(figsize=(4, 6))\n",
    "\n",
    "# iterate over unique x categories\n",
    "for i, x_value in enumerate(combined_plot_df['type'].unique()):\n",
    "    subset =combined_plot_df[combined_plot_df['type'] == x_value]\n",
    "    \n",
    "    sns.boxplot(\n",
    "        data=subset,\n",
    "        x=[i] * len(subset),  # Assign a numerical position to each category\n",
    "        y='dnds',\n",
    "        hue='Class',\n",
    "        palette=palette_dict.get(x_value, ['gray', 'black']),  # Default colors if missing\n",
    "        ax=ax,\n",
    "        showfliers=False,\n",
    "    )\n",
    "\n",
    "# adjust x-axis labels to match original 'type' values\n",
    "ax.set_xticks(range(len(combined_plot_df['type'].unique())))\n",
    "ax.set_xticklabels(combined_plot_df['type'].unique())\n",
    "\n",
    "plt.legend(title='Class', bbox_to_anchor=(1.02, 1), loc='upper left' )\n",
    "\n",
    "\n",
    "plt.show()"
   ]
  },
  {
   "cell_type": "code",
   "execution_count": null,
   "id": "bd0f43d3-260d-43ec-aec4-87db8a8f976c",
   "metadata": {},
   "outputs": [],
   "source": []
  },
  {
   "cell_type": "markdown",
   "id": "8df72cc0-fe85-47ac-be39-ab136b6e5cf3",
   "metadata": {},
   "source": [
    "# stats"
   ]
  },
  {
   "cell_type": "markdown",
   "id": "20c57fb4-6948-42c0-9992-381f5e39bcc1",
   "metadata": {},
   "source": [
    "## mannwhitney"
   ]
  },
  {
   "cell_type": "code",
   "execution_count": 195,
   "id": "914903d6-398a-4e57-ba01-fd16827d3a63",
   "metadata": {},
   "outputs": [],
   "source": [
    "grouped_seven_dict = combined_plot_df.groupby(['type', 'Class'])['dnds'].apply(list).to_dict()"
   ]
  },
  {
   "cell_type": "code",
   "execution_count": 197,
   "id": "29536e38-d501-4215-8797-0d97a17eb167",
   "metadata": {},
   "outputs": [
    {
     "data": {
      "text/plain": [
       "dict_keys([('mimicked', 'ctrl interface'), ('mimicked', 'mimic interface'), ('target', 'ctrl interface'), ('target', 'mimic interface')])"
      ]
     },
     "execution_count": 197,
     "metadata": {},
     "output_type": "execute_result"
    }
   ],
   "source": [
    "grouped_seven_dict.keys()"
   ]
  },
  {
   "cell_type": "code",
   "execution_count": 202,
   "id": "cef1bb0d-8329-41b3-bf00-4f725577cd9b",
   "metadata": {},
   "outputs": [
    {
     "name": "stdout",
     "output_type": "stream",
     "text": [
      "p-value of ('mimicked', 'ctrl interface') and ('mimicked', 'mimic interface') = 2.77e-09\n",
      "p-value of ('target', 'ctrl interface') and ('target', 'mimic interface') = 3.39e-43\n"
     ]
    }
   ],
   "source": [
    "get_stats(grouped_seven_dict, \"greater\")"
   ]
  },
  {
   "cell_type": "markdown",
   "id": "c80c9fde-402f-41e3-b177-b29b0cd134d5",
   "metadata": {},
   "source": [
    "## FDR correction"
   ]
  },
  {
   "cell_type": "code",
   "execution_count": 205,
   "id": "608b4f71-6203-4ed6-865f-4fa5b7e918eb",
   "metadata": {},
   "outputs": [
    {
     "data": {
      "text/plain": [
       "array([2.77e-09, 6.78e-43])"
      ]
     },
     "execution_count": 205,
     "metadata": {},
     "output_type": "execute_result"
    }
   ],
   "source": [
    "rejected, pvals_corrected, _, _ = multipletests([2.77e-09 , 3.39e-43], alpha=0.05, method='fdr_bh')\n",
    "pvals_corrected"
   ]
  },
  {
   "cell_type": "code",
   "execution_count": null,
   "id": "0810d66d-824d-4a9c-a92d-8ab8da18d4f1",
   "metadata": {},
   "outputs": [],
   "source": []
  }
 ],
 "metadata": {
  "kernelspec": {
   "display_name": "Python 3 (ipykernel)",
   "language": "python",
   "name": "python3"
  },
  "language_info": {
   "codemirror_mode": {
    "name": "ipython",
    "version": 3
   },
   "file_extension": ".py",
   "mimetype": "text/x-python",
   "name": "python",
   "nbconvert_exporter": "python",
   "pygments_lexer": "ipython3",
   "version": "3.12.3"
  }
 },
 "nbformat": 4,
 "nbformat_minor": 5
}
