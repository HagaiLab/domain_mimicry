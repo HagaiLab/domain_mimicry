{
 "cells": [
  {
   "cell_type": "markdown",
   "id": "7572d85d-32ad-4b92-8730-d16375762cf4",
   "metadata": {},
   "source": [
    "This script was used to produce the results in Fig 4B - \n",
    "identifyng interface residues of target proteins from predicted protein complex structures, based on CSU analysis, as viral-specific, host-specific and mutual interface residues. Then, linking evolutionary rates to residue identity."
   ]
  },
  {
   "cell_type": "markdown",
   "id": "2f6d4bf0-97e0-4585-8a7d-e2db99aa1435",
   "metadata": {},
   "source": [
    "## imports, paths, functions"
   ]
  },
  {
   "cell_type": "code",
   "execution_count": 1,
   "id": "cacce172-c1c3-4165-ab51-5eba9332cf53",
   "metadata": {},
   "outputs": [],
   "source": [
    "import pandas as pd\n",
    "import os\n",
    "import numpy as np"
   ]
  },
  {
   "cell_type": "code",
   "execution_count": 2,
   "id": "d11949a4-202d-4490-8f29-7980a4353ff7",
   "metadata": {},
   "outputs": [],
   "source": [
    "import seaborn as sns\n",
    "import matplotlib.pyplot as plt"
   ]
  },
  {
   "cell_type": "code",
   "execution_count": 4,
   "id": "cb29bdb7-cacc-4dd3-aff1-6ce804d4f354",
   "metadata": {},
   "outputs": [],
   "source": [
    "import ast"
   ]
  },
  {
   "cell_type": "code",
   "execution_count": 5,
   "id": "c839f6c1-f625-4d08-b121-8a920f90c6d8",
   "metadata": {},
   "outputs": [],
   "source": [
    "import scipy.stats as stats"
   ]
  },
  {
   "cell_type": "code",
   "execution_count": 6,
   "id": "df1337ad-d5cc-4eb2-a920-fd028bba9d3b",
   "metadata": {},
   "outputs": [],
   "source": [
    "from statsmodels.stats.multitest import multipletests"
   ]
  },
  {
   "cell_type": "code",
   "execution_count": 7,
   "id": "8dfa53d1-f694-49e9-84d7-c352ad16dcd5",
   "metadata": {},
   "outputs": [],
   "source": [
    "# directory of the current script\n",
    "script_dir = os.getcwd()"
   ]
  },
  {
   "cell_type": "code",
   "execution_count": 8,
   "id": "1f696185-6f3e-4f30-95f5-b39d3d6ea1a7",
   "metadata": {},
   "outputs": [],
   "source": [
    "h_residues_dnds = os.path.join(script_dir, 'unique_vs_mutual_interface_data', 'human_residues_dnds_.csv')"
   ]
  },
  {
   "cell_type": "code",
   "execution_count": 9,
   "id": "e3ba95fb-67b7-4ec3-87b6-2df07a0bb803",
   "metadata": {},
   "outputs": [],
   "source": [
    "multimer_interface_path = os.path.join(script_dir, 'unique_vs_mutual_interface_data', 'good_triads_scores_full_interfaces.csv')"
   ]
  },
  {
   "cell_type": "code",
   "execution_count": 10,
   "id": "4676a45d-fafc-4b90-a52d-1704a2c5cad7",
   "metadata": {},
   "outputs": [],
   "source": [
    "def extract_unique_items(sub_df, column, exclude=None):\n",
    "    \"\"\"\n",
    "    Extract unique items from a column of lists in a DataFrame, with optional exclusion.\n",
    "\n",
    "    Parameters:\n",
    "        sub_df (DataFrame): The subset DataFrame grouped by 'target'.\n",
    "        column (str): The column name containing lists of items.\n",
    "        exclude (list): A list of items to exclude from the results (default: None).\n",
    "\n",
    "    Returns:\n",
    "        list: A deduplicated list of unique items.\n",
    "    \"\"\"\n",
    "    if exclude is None:\n",
    "        exclude = []\n",
    "    return list(set(\n",
    "        item \n",
    "        for sublist in sub_df[column] \n",
    "        if sublist is not None \n",
    "        for item in sublist \n",
    "        if item is not None and item not in exclude\n",
    "    ))"
   ]
  },
  {
   "cell_type": "code",
   "execution_count": 12,
   "id": "81836216-22d5-495d-b136-03878eb89e37",
   "metadata": {},
   "outputs": [],
   "source": [
    "def get_scores(target, res_column):\n",
    "    scores = []\n",
    "\n",
    "    for res in res_column:  # Iterate over the residues\n",
    "        key = f\"{target}_{res}\"  # Construct the key to seach for (target_residue_index)\n",
    "        try:\n",
    "            # access the 'dnds' value\n",
    "            result = dnds_dict.get(key)\n",
    "            scores.append(result)\n",
    "        except KeyError:\n",
    "            # cases where the key is not found\n",
    "            scores.append(None)\n",
    "\n",
    "    return scores\n"
   ]
  },
  {
   "cell_type": "markdown",
   "id": "ade6c894-575c-454a-a218-df53ba18fb78",
   "metadata": {},
   "source": [
    "## interface residues"
   ]
  },
  {
   "cell_type": "code",
   "execution_count": 22,
   "id": "b71bb828-5db0-424b-b535-1ea320f4b596",
   "metadata": {},
   "outputs": [],
   "source": [
    "multimer_interface_df = pd.read_csv(multimer_interface_path)"
   ]
  },
  {
   "cell_type": "code",
   "execution_count": 24,
   "id": "a2de4f03-53cc-446b-ab4f-d158cf608b52",
   "metadata": {},
   "outputs": [],
   "source": [
    "# formating column of lists\n",
    "multimer_interface_df['interface_B'] = multimer_interface_df['interface_B'].apply(ast.literal_eval)"
   ]
  },
  {
   "cell_type": "markdown",
   "id": "1d485aea-47ff-4d32-b122-5855a2e28cdb",
   "metadata": {},
   "source": [
    "## define unique and mutual interface residues"
   ]
  },
  {
   "cell_type": "code",
   "execution_count": 29,
   "id": "11a90461-592d-4a3e-a12a-e7f6e0da80d5",
   "metadata": {},
   "outputs": [],
   "source": [
    "mutual_unique_I_df = pd.DataFrame(columns = ['target', 'v_uniprot', 'h_uniprot','v_unique','h_unique','mutual'])\n",
    "\n",
    "\n",
    "for i in range(0, len(multimer_interface_df), 2):\n",
    "    rows = multimer_interface_df.iloc[i:i+2]\n",
    "    viral_res = rows[rows['type'] == \"viral\"]['interface_B'].values[0]\n",
    "    v_uniprot = rows[rows['type'] == \"viral\"]['protein_A'].values[0]\n",
    "    target_a = rows[rows['type'] == \"viral\"]['protein_B'].values[0]\n",
    "\n",
    "    \n",
    "    human_res = rows[rows['type'] == \"human\"]['interface_B'].values[0]\n",
    "    h_uniprot = rows[rows['type'] == \"human\"]['protein_A'].values[0]\n",
    "    target_b = rows[rows['type'] == \"human\"]['protein_B'].values[0]\n",
    "\n",
    "    if target_a == target_b:\n",
    "        target = target_a\n",
    "    else:\n",
    "        target = 'error'\n",
    "        print(target)\n",
    "    \n",
    "    mutual = list(set(viral_res) & set(human_res))\n",
    "    unique_v = list(set(viral_res) - set(human_res))\n",
    "    unique_h = list(set(human_res) - set(viral_res))\n",
    "\n",
    "    new_row = {'target' :target, 'v_uniprot' : v_uniprot, 'h_uniprot' : h_uniprot , 'v_unique' : unique_v , 'h_unique' : unique_h , 'mutual': mutual }\n",
    "    mutual_unique_I_df = pd.concat([mutual_unique_I_df, pd.DataFrame([new_row])], ignore_index=True)\n",
    "\n",
    "    "
   ]
  },
  {
   "cell_type": "markdown",
   "id": "f2c14a1e-9c36-4842-8b72-588ed6c0d470",
   "metadata": {},
   "source": [
    "# re-orginize dnds df"
   ]
  },
  {
   "cell_type": "code",
   "execution_count": 32,
   "id": "13f01714-1a28-440b-8f80-fd7a5b3caa1b",
   "metadata": {},
   "outputs": [],
   "source": [
    "dnds_df = pd.read_csv(h_residues_dnds)"
   ]
  },
  {
   "cell_type": "code",
   "execution_count": 33,
   "id": "6daa6ce6-7fcb-4af2-9819-aa0637c0fd19",
   "metadata": {},
   "outputs": [],
   "source": [
    "# creating amino acids dictionary and inverting it\n",
    "d = {'CYS': 'C', 'ASP': 'D', 'SER': 'S', 'GLN': 'Q', 'LYS': 'K',\n",
    "     'ILE': 'I', 'PRO': 'P', 'THR': 'T', 'PHE': 'F', 'ASN': 'N', \n",
    "     'GLY': 'G', 'HIS': 'H', 'LEU': 'L', 'ARG': 'R', 'TRP': 'W', \n",
    "     'ALA': 'A', 'VAL':'V', 'GLU': 'E', 'TYR': 'Y', 'MET': 'M'}\n",
    "\n",
    "inv_d = {v: k for k, v in d.items()}"
   ]
  },
  {
   "cell_type": "code",
   "execution_count": 34,
   "id": "1cc88a2c-79c2-4cd5-8605-4ea9dd591e5f",
   "metadata": {},
   "outputs": [],
   "source": [
    "# mapping the residues to 3 letter format (as it appears in the csu oputput)\n",
    "dnds_df['residue'] = dnds_df['res'].apply(lambda x: inv_d.get(x))"
   ]
  },
  {
   "cell_type": "code",
   "execution_count": 35,
   "id": "69e0de68-7042-40d0-8957-d243cec19cdb",
   "metadata": {},
   "outputs": [],
   "source": [
    "dnds_df['full_uniprot_res'] = dnds_df['uniprot'].astype(str) + \"_\" + dnds_df['residue'].astype(str) + \"_\" + dnds_df['res_num'].astype(str)"
   ]
  },
  {
   "cell_type": "code",
   "execution_count": 36,
   "id": "112bf652-f434-4949-a705-d450ec69860d",
   "metadata": {},
   "outputs": [],
   "source": [
    "dnds_search_df = dnds_df.dropna(subset=['uniprot'])"
   ]
  },
  {
   "cell_type": "code",
   "execution_count": 37,
   "id": "a36c034d-80cb-412e-b168-c0aa2b2bb240",
   "metadata": {},
   "outputs": [
    {
     "data": {
      "text/html": [
       "<div>\n",
       "<style scoped>\n",
       "    .dataframe tbody tr th:only-of-type {\n",
       "        vertical-align: middle;\n",
       "    }\n",
       "\n",
       "    .dataframe tbody tr th {\n",
       "        vertical-align: top;\n",
       "    }\n",
       "\n",
       "    .dataframe thead th {\n",
       "        text-align: right;\n",
       "    }\n",
       "</style>\n",
       "<table border=\"1\" class=\"dataframe\">\n",
       "  <thead>\n",
       "    <tr style=\"text-align: right;\">\n",
       "      <th></th>\n",
       "      <th>ensg</th>\n",
       "      <th>res_num</th>\n",
       "      <th>res</th>\n",
       "      <th>dnds</th>\n",
       "      <th>uniprot</th>\n",
       "      <th>type</th>\n",
       "      <th>residue</th>\n",
       "      <th>full_uniprot_res</th>\n",
       "    </tr>\n",
       "  </thead>\n",
       "  <tbody>\n",
       "    <tr>\n",
       "      <th>0</th>\n",
       "      <td>ENSG00000105447</td>\n",
       "      <td>1</td>\n",
       "      <td>M</td>\n",
       "      <td>0.045</td>\n",
       "      <td>Q9BQ67</td>\n",
       "      <td>viral binding</td>\n",
       "      <td>MET</td>\n",
       "      <td>Q9BQ67_MET_1</td>\n",
       "    </tr>\n",
       "    <tr>\n",
       "      <th>1</th>\n",
       "      <td>ENSG00000105447</td>\n",
       "      <td>2</td>\n",
       "      <td>A</td>\n",
       "      <td>0.045</td>\n",
       "      <td>Q9BQ67</td>\n",
       "      <td>viral binding</td>\n",
       "      <td>ALA</td>\n",
       "      <td>Q9BQ67_ALA_2</td>\n",
       "    </tr>\n",
       "    <tr>\n",
       "      <th>2</th>\n",
       "      <td>ENSG00000105447</td>\n",
       "      <td>3</td>\n",
       "      <td>A</td>\n",
       "      <td>0.045</td>\n",
       "      <td>Q9BQ67</td>\n",
       "      <td>viral binding</td>\n",
       "      <td>ALA</td>\n",
       "      <td>Q9BQ67_ALA_3</td>\n",
       "    </tr>\n",
       "    <tr>\n",
       "      <th>3</th>\n",
       "      <td>ENSG00000105447</td>\n",
       "      <td>4</td>\n",
       "      <td>R</td>\n",
       "      <td>0.048</td>\n",
       "      <td>Q9BQ67</td>\n",
       "      <td>viral binding</td>\n",
       "      <td>ARG</td>\n",
       "      <td>Q9BQ67_ARG_4</td>\n",
       "    </tr>\n",
       "    <tr>\n",
       "      <th>4</th>\n",
       "      <td>ENSG00000105447</td>\n",
       "      <td>5</td>\n",
       "      <td>K</td>\n",
       "      <td>0.045</td>\n",
       "      <td>Q9BQ67</td>\n",
       "      <td>viral binding</td>\n",
       "      <td>LYS</td>\n",
       "      <td>Q9BQ67_LYS_5</td>\n",
       "    </tr>\n",
       "  </tbody>\n",
       "</table>\n",
       "</div>"
      ],
      "text/plain": [
       "              ensg  res_num res   dnds uniprot           type residue  \\\n",
       "0  ENSG00000105447        1   M  0.045  Q9BQ67  viral binding     MET   \n",
       "1  ENSG00000105447        2   A  0.045  Q9BQ67  viral binding     ALA   \n",
       "2  ENSG00000105447        3   A  0.045  Q9BQ67  viral binding     ALA   \n",
       "3  ENSG00000105447        4   R  0.048  Q9BQ67  viral binding     ARG   \n",
       "4  ENSG00000105447        5   K  0.045  Q9BQ67  viral binding     LYS   \n",
       "\n",
       "  full_uniprot_res  \n",
       "0     Q9BQ67_MET_1  \n",
       "1     Q9BQ67_ALA_2  \n",
       "2     Q9BQ67_ALA_3  \n",
       "3     Q9BQ67_ARG_4  \n",
       "4     Q9BQ67_LYS_5  "
      ]
     },
     "execution_count": 37,
     "metadata": {},
     "output_type": "execute_result"
    }
   ],
   "source": [
    "dnds_search_df.head()"
   ]
  },
  {
   "cell_type": "code",
   "execution_count": 38,
   "id": "c54f003b-8475-4cee-af7c-dcfeadd76206",
   "metadata": {},
   "outputs": [],
   "source": [
    "# mapping protein_residue_index to dnds value\n",
    "dnds_dict = dict(zip(dnds_search_df['full_uniprot_res'],dnds_search_df['dnds']))"
   ]
  },
  {
   "cell_type": "markdown",
   "id": "65adc307-caf0-43dc-886c-f10bd6d3fe78",
   "metadata": {},
   "source": [
    "# avoid double interface residue identity"
   ]
  },
  {
   "cell_type": "code",
   "execution_count": 44,
   "id": "4007089a-7285-44e9-bcc6-ded72a86e334",
   "metadata": {},
   "outputs": [],
   "source": [
    "# remove rows where the mutual column contains a list of only None values\n",
    "mutual_unique_I_df_clean = mutual_unique_I_df[\n",
    "    mutual_unique_I_df['mutual'].apply(lambda x: not (isinstance(x, list) and all(item is None for item in x)))\n",
    "]"
   ]
  },
  {
   "cell_type": "code",
   "execution_count": 45,
   "id": "ed273f1e-a69d-4998-aabd-f613730ed3e7",
   "metadata": {},
   "outputs": [],
   "source": [
    "colapsed_I_df = pd.DataFrame(columns = ['target','v_unique','h_unique','mutual'])\n",
    "\n",
    "rows = []\n",
    "\n",
    "\n",
    "for target, sub_df in mutual_unique_I_df_clean.groupby('target'):\n",
    "    \n",
    "    # Extract unique items from 'mutual' column\n",
    "    mutual = extract_unique_items(sub_df, column='mutual')\n",
    "\n",
    "    \n",
    "    v_unique = extract_unique_items(sub_df, column='v_unique', exclude=mutual)\n",
    "    h_unique = extract_unique_items(sub_df, column='h_unique', exclude=mutual)\n",
    "\n",
    "    # check for overlap\n",
    "    overlap_v_h = set(v_unique) & set(h_unique)\n",
    "    if overlap_v_h:\n",
    "        print(f\"Overlap found in target {target}: {overlap_v_h}\")\n",
    "\n",
    "    new_row = {'target' :target, 'v_unique' : v_unique , 'h_unique' : h_unique , 'mutual': mutual }\n",
    "    colapsed_I_df = pd.concat([colapsed_I_df, pd.DataFrame([new_row])], ignore_index=True)\n",
    "\n",
    "    "
   ]
  },
  {
   "cell_type": "markdown",
   "id": "95f805f7-32c8-4a02-b2be-53cf720b96bf",
   "metadata": {},
   "source": [
    "# get dnds values for the new residue lists"
   ]
  },
  {
   "cell_type": "code",
   "execution_count": 59,
   "id": "791744f8-2adc-4936-818e-6f7f3b3ef503",
   "metadata": {},
   "outputs": [],
   "source": [
    "colapsed_I_df['v_unique_dnds'] = colapsed_I_df.apply(lambda row: get_scores(row['target'], row['v_unique']), axis=1)"
   ]
  },
  {
   "cell_type": "code",
   "execution_count": 60,
   "id": "8abb56d8-93fb-4fe8-adf0-3b397ada654e",
   "metadata": {},
   "outputs": [],
   "source": [
    "colapsed_I_df['h_unique_dnds'] = colapsed_I_df.apply(lambda row: get_scores(row['target'], row['h_unique']), axis=1)"
   ]
  },
  {
   "cell_type": "code",
   "execution_count": 61,
   "id": "1ed8cbfc-80ce-4a02-99c8-5dfe3327f440",
   "metadata": {},
   "outputs": [],
   "source": [
    "colapsed_I_df['m_dnds'] = colapsed_I_df.apply(lambda row: get_scores(row['target'], row['mutual']), axis=1)"
   ]
  },
  {
   "cell_type": "markdown",
   "id": "4b477d60-72a3-4f43-8ec7-e7e642e29530",
   "metadata": {},
   "source": [
    "# flattening dnds lists into new table"
   ]
  },
  {
   "cell_type": "code",
   "execution_count": 71,
   "id": "bc877b05-0cb5-4fc0-b13f-9b71271bdc54",
   "metadata": {},
   "outputs": [],
   "source": [
    "v_col_listoflists = colapsed_I_df['v_unique_dnds'].tolist()\n",
    "v_col_list = [item for sublist in v_col_listoflists \n",
    "          for item in (sublist if isinstance(sublist, list) else [sublist]) \n",
    "          if item is not None]"
   ]
  },
  {
   "cell_type": "code",
   "execution_count": 72,
   "id": "ca08adf6-3469-41ff-b454-efa590a51a74",
   "metadata": {},
   "outputs": [],
   "source": [
    "h_col_listoflists = colapsed_I_df['h_unique_dnds'].tolist()\n",
    "h_col_list = [item for sublist in h_col_listoflists \n",
    "          for item in (sublist if isinstance(sublist, list) else [sublist]) \n",
    "          if item is not None]"
   ]
  },
  {
   "cell_type": "code",
   "execution_count": 73,
   "id": "e11abdba-026a-494d-a1ce-235f42ab1788",
   "metadata": {},
   "outputs": [],
   "source": [
    "m_col_listoflists = colapsed_I_df['m_dnds'].tolist()\n",
    "m_col_list = [item for sublist in m_col_listoflists \n",
    "          for item in (sublist if isinstance(sublist, list) else [sublist]) \n",
    "          if item is not None]"
   ]
  },
  {
   "cell_type": "code",
   "execution_count": 101,
   "id": "376869a7-99f4-44a5-a72c-17d64c1c9bab",
   "metadata": {},
   "outputs": [],
   "source": [
    "# convert lists to pandas Series (automatically handles different lengths)\n",
    "sV_col = pd.Series(v_col_list)\n",
    "sH_col = pd.Series(h_col_list)\n",
    "sM_col = pd.Series(m_col_list)\n",
    "\n",
    "# concatenate them into a DataFrame\n",
    "df_col = pd.concat([sV_col, sH_col, sM_col], axis=1, keys=['viral-specific', 'human-specific', 'mutual-interface'])\n",
    "\n",
    "# melt the DataFrame into a long format\n",
    "df_col_melted = df_col.melt(var_name='type', value_name='dN/dS')"
   ]
  },
  {
   "cell_type": "markdown",
   "id": "5fa346cf-409c-4c86-9128-ad255741794a",
   "metadata": {},
   "source": [
    "# plot"
   ]
  },
  {
   "cell_type": "code",
   "execution_count": 117,
   "id": "c9b9656e-c558-4fa7-bcfd-f7cacd514da4",
   "metadata": {},
   "outputs": [
    {
     "data": {
      "image/png": "[encoded data removed]",
      "text/plain": [
       "<Figure size 250x500 with 1 Axes>"
      ]
     },
     "metadata": {},
     "output_type": "display_data"
    }
   ],
   "source": [
    "# create the boxplot\n",
    "plt.figure(figsize=(2.5, 5))\n",
    "\n",
    "colors = [ '#1f82a3' , '#61b3cf' , '#98def5' ]\n",
    "sns.boxplot(x='type', y='dN/dS', hue= 'type', data=df_col_melted, showfliers=False, palette=colors , order = ['mutual-interface' , 'human-specific', 'viral-specific' ] )\n",
    "plt.xticks(rotation=15)\n",
    "\n",
    "plt.show()"
   ]
  },
  {
   "cell_type": "code",
   "execution_count": 105,
   "id": "ae5881bf-e7fe-446f-a1d5-b7ddcd56d402",
   "metadata": {},
   "outputs": [
    {
     "name": "stdout",
     "output_type": "stream",
     "text": [
      "0.07367148528886384\n"
     ]
    }
   ],
   "source": [
    "statistic, p_value = stats.mannwhitneyu(m_col_list, h_col_list, alternative='less')\n",
    "print(p_value)"
   ]
  },
  {
   "cell_type": "code",
   "execution_count": 106,
   "id": "f3040d8f-4244-4fa4-bb62-98a89ef99dff",
   "metadata": {},
   "outputs": [
    {
     "name": "stdout",
     "output_type": "stream",
     "text": [
      "0.0026001816755814\n"
     ]
    }
   ],
   "source": [
    "statistic, p_value = stats.mannwhitneyu(m_col_list, v_col_list, alternative='less')\n",
    "print(p_value)"
   ]
  },
  {
   "cell_type": "code",
   "execution_count": 109,
   "id": "23d1ddd7-baa1-4b0d-93a1-a89d56439f20",
   "metadata": {},
   "outputs": [],
   "source": [
    "rejected, pvals_corrected, _, _ = multipletests([0.07367148528886384 , 0.0026001816755814], alpha=0.05, method='fdr_bh')"
   ]
  },
  {
   "cell_type": "code",
   "execution_count": 110,
   "id": "4e5bf05e-df5d-4fd2-9555-9a943e0245f8",
   "metadata": {},
   "outputs": [
    {
     "data": {
      "text/plain": [
       "array([0.07367149, 0.00520036])"
      ]
     },
     "execution_count": 110,
     "metadata": {},
     "output_type": "execute_result"
    }
   ],
   "source": [
    "pvals_corrected"
   ]
  },
  {
   "cell_type": "code",
   "execution_count": null,
   "id": "706564c8-003c-4b47-9d6f-a12868350494",
   "metadata": {},
   "outputs": [],
   "source": []
  }
 ],
 "metadata": {
  "kernelspec": {
   "display_name": "Python 3 (ipykernel)",
   "language": "python",
   "name": "python3"
  },
  "language_info": {
   "codemirror_mode": {
    "name": "ipython",
    "version": 3
   },
   "file_extension": ".py",
   "mimetype": "text/x-python",
   "name": "python",
   "nbconvert_exporter": "python",
   "pygments_lexer": "ipython3",
   "version": "3.12.3"
  }
 },
 "nbformat": 4,
 "nbformat_minor": 5
}
